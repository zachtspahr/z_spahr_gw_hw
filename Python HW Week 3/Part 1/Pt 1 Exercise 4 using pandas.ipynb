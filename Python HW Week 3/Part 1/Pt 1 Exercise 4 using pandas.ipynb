{
 "cells": [
  {
   "cell_type": "code",
   "execution_count": 1,
   "metadata": {},
   "outputs": [],
   "source": [
    "import os\n",
    "import string\n",
    "import pandas as pd"
   ]
  },
  {
   "cell_type": "code",
   "execution_count": 2,
   "metadata": {},
   "outputs": [],
   "source": [
    "from collections import Counter"
   ]
  },
  {
   "cell_type": "code",
   "execution_count": 3,
   "metadata": {},
   "outputs": [],
   "source": [
    "resume_path = os.path.join(\"Resources\", \"resume.md\")"
   ]
  },
  {
   "cell_type": "code",
   "execution_count": 4,
   "metadata": {},
   "outputs": [
    {
     "name": "stdout",
     "output_type": "stream",
     "text": [
      "Resources/resume.md\n"
     ]
    }
   ],
   "source": [
    "print (resume_path)"
   ]
  },
  {
   "cell_type": "code",
   "execution_count": null,
   "metadata": {},
   "outputs": [],
   "source": []
  },
  {
   "cell_type": "code",
   "execution_count": null,
   "metadata": {},
   "outputs": [],
   "source": []
  },
  {
   "cell_type": "code",
   "execution_count": null,
   "metadata": {},
   "outputs": [],
   "source": []
  },
  {
   "cell_type": "code",
   "execution_count": null,
   "metadata": {},
   "outputs": [],
   "source": []
  },
  {
   "cell_type": "code",
   "execution_count": 5,
   "metadata": {},
   "outputs": [],
   "source": [
    "REQUIRED_SKILLS = {\"excel\", \"python\", \"mysql\", \"statistics\"}\n",
    "DESIRED_SKILLS = {\"r\", \"git\", \"html\", \"css\", \"leaflet\"}\n"
   ]
  },
  {
   "cell_type": "code",
   "execution_count": 6,
   "metadata": {},
   "outputs": [],
   "source": [
    "# function to load a file\n",
    "def load_file(filepath):\n",
    "    \"\"\"Helper function to read a file and return the data.\"\"\"\n",
    "    with open(filepath, \"r\") as resume_file_handler:\n",
    "        return resume_file_handler.read().lower().split()"
   ]
  },
  {
   "cell_type": "code",
   "execution_count": 7,
   "metadata": {},
   "outputs": [],
   "source": [
    "# Grab the text for a Resume\n",
    "word_list = load_file(resume_path)"
   ]
  },
  {
   "cell_type": "code",
   "execution_count": 8,
   "metadata": {},
   "outputs": [
    {
     "name": "stdout",
     "output_type": "stream",
     "text": [
      "['#', 'dartanion', 'd.', 'dartling', '##', 'education', '*', 'data', 'analytics', 'and', 'visualization', 'boot', 'camp', 'graduate', '##', 'experience', '*', 'creating', 'pivot', 'tables', 'and', 'vba', 'scripts', 'in', 'excel.', '*', 'modeling', 'and', 'forecasting', 'data', 'using', 'basic', 'statistics', '*', 'writing', 'python', 'scripts', 'to', 'analyze', 'data', 'sets', 'from', 'files', 'and', 'apis.', '*', 'social', 'media', 'mining', 'using', 'python', '*', 'working', 'with', 'mysql', 'and', 'mongodb', 'databases', '*', 'developing', 'front-end', 'web', 'visualizations', 'using', 'html,', 'css,', 'bootstrap,', 'd3,', 'and', 'leaflet.js', '*', 'using', 'the', 'tableau', 'business', 'intelligence', 'software', '*', 'performing', 'big', 'data', 'analytics', 'with', 'hadoop', '*', 'working', 'with', 'machine', 'learning', 'algorithms', '##', 'skills', '*', 'microsoft', 'excel,', 'python,', 'javascript,', 'html/css,', 'api', 'interactions,', 'social', 'media', 'mining,', 'sql,', 'hadoop,', 'tableau,', 'advanced', 'statistics,', 'machine', 'learning,', 'r,', 'git/github', '##', 'interests', '*', 'contributing', 'to', 'open-source', 'software', '*', 'data', 'analytics', 'with', 'python', 'and', 'pandas', '*', 'designing', 'data', 'visualization', 'web', 'apps', 'with', 'html,', 'css,', 'javascript,', 'and', 'd3', '*', 'working', 'with', 'big', 'data', 'in', 'the', 'cloud', 'using', 'aws']\n"
     ]
    }
   ],
   "source": [
    "print (word_list)"
   ]
  },
  {
   "cell_type": "code",
   "execution_count": 9,
   "metadata": {},
   "outputs": [],
   "source": [
    "# Create a set of unique words from the resume\n",
    "resume = set()\n"
   ]
  },
  {
   "cell_type": "code",
   "execution_count": 10,
   "metadata": {},
   "outputs": [],
   "source": [
    "for token in word_list:\n",
    "    resume.add(token.split(',')[0].split('.')[0])"
   ]
  },
  {
   "cell_type": "code",
   "execution_count": 11,
   "metadata": {},
   "outputs": [
    {
     "name": "stdout",
     "output_type": "stream",
     "text": [
      "{'performing', 'the', 'to', 'working', 'd', 'modeling', 'visualization', 'html/css', 'algorithms', 'with', 'git/github', 'sets', 'business', 'in', 'tableau', 'forecasting', 'learning', 'creating', 'mongodb', 'python', 'hadoop', 'graduate', 'contributing', 'experience', 'designing', 'from', 'mysql', 'd3', 'intelligence', 'advanced', 'analyze', 'boot', 'open-source', 'camp', 'analytics', 'mining', 'interests', 'writing', 'visualizations', 'excel', 'apis', 'aws', 'basic', 'developing', 'dartling', 'scripts', 'javascript', 'skills', 'machine', 'files', 'social', 'api', 'sql', '##', 'interactions', 'big', 'and', 'pivot', 'dartanion', 'cloud', 'using', 'html', 'software', 'apps', 'leaflet', 'pandas', 'education', 'css', 'r', 'media', 'microsoft', 'vba', 'front-end', 'databases', 'statistics', 'tables', 'web', 'data', 'bootstrap'}\n"
     ]
    }
   ],
   "source": [
    "punctuation = set(string.punctuation)\n",
    "resume = resume - punctuation\n",
    "print(resume)"
   ]
  },
  {
   "cell_type": "code",
   "execution_count": 15,
   "metadata": {},
   "outputs": [
    {
     "name": "stdout",
     "output_type": "stream",
     "text": [
      "REQUIRED SKILLS\n",
      "{'excel', 'statistics', 'mysql', 'python'}\n",
      "Intersection of Required Skills and resume\n",
      "{'excel', 'python', 'mysql', 'statistics'}\n"
     ]
    }
   ],
   "source": [
    "# Calculate the Required Skills Match using Set Intersection\n",
    "print(\"REQUIRED SKILLS\")\n",
    "print (REQUIRED_SKILLS)\n",
    "print(\"Intersection of Required Skills and resume\")\n",
    "print(REQUIRED_SKILLS.intersection(resume))\n",
    "\n"
   ]
  },
  {
   "cell_type": "code",
   "execution_count": 16,
   "metadata": {},
   "outputs": [
    {
     "name": "stdout",
     "output_type": "stream",
     "text": [
      "DESIRED SKILLS\n",
      "Intersection of Resume and Desired Skills\n",
      "{'html', 'r', 'css', 'leaflet'}\n"
     ]
    }
   ],
   "source": [
    "print(\"DESIRED SKILLS\")\n",
    "print(\"Intersection of Resume and Desired Skills\")\n",
    "print(resume & DESIRED_SKILLS)"
   ]
  },
  {
   "cell_type": "code",
   "execution_count": 17,
   "metadata": {},
   "outputs": [],
   "source": [
    "# Resume Word Count\n",
    "# ==========================\n",
    "# Initialize a dictionary with default values equal to zero\n",
    "word_count = {}.fromkeys(word_list, 0)"
   ]
  },
  {
   "cell_type": "code",
   "execution_count": 18,
   "metadata": {},
   "outputs": [
    {
     "name": "stdout",
     "output_type": "stream",
     "text": [
      "{'#': 1, 'dartanion': 1, 'd.': 1, 'dartling': 1, '##': 4, 'education': 1, '*': 15, 'data': 7, 'analytics': 3, 'and': 8, 'visualization': 2, 'boot': 1, 'camp': 1, 'graduate': 1, 'experience': 1, 'creating': 1, 'pivot': 1, 'tables': 1, 'vba': 1, 'scripts': 2, 'in': 2, 'excel.': 1, 'modeling': 1, 'forecasting': 1, 'using': 5, 'basic': 1, 'statistics': 1, 'writing': 1, 'python': 3, 'to': 2, 'analyze': 1, 'sets': 1, 'from': 1, 'files': 1, 'apis.': 1, 'social': 2, 'media': 2, 'mining': 1, 'working': 3, 'with': 6, 'mysql': 1, 'mongodb': 1, 'databases': 1, 'developing': 1, 'front-end': 1, 'web': 2, 'visualizations': 1, 'html,': 2, 'css,': 2, 'bootstrap,': 1, 'd3,': 1, 'leaflet.js': 1, 'the': 2, 'tableau': 1, 'business': 1, 'intelligence': 1, 'software': 2, 'performing': 1, 'big': 2, 'hadoop': 1, 'machine': 2, 'learning': 1, 'algorithms': 1, 'skills': 1, 'microsoft': 1, 'excel,': 1, 'python,': 1, 'javascript,': 2, 'html/css,': 1, 'api': 1, 'interactions,': 1, 'mining,': 1, 'sql,': 1, 'hadoop,': 1, 'tableau,': 1, 'advanced': 1, 'statistics,': 1, 'learning,': 1, 'r,': 1, 'git/github': 1, 'interests': 1, 'contributing': 1, 'open-source': 1, 'pandas': 1, 'designing': 1, 'apps': 1, 'd3': 1, 'cloud': 1, 'aws': 1}\n"
     ]
    }
   ],
   "source": [
    "for word in word_list:\n",
    "    word_count[word] += 1\n",
    "print(word_count)\n"
   ]
  },
  {
   "cell_type": "code",
   "execution_count": 19,
   "metadata": {},
   "outputs": [
    {
     "name": "stdout",
     "output_type": "stream",
     "text": [
      "Counter({'*': 15, 'and': 8, 'data': 7, 'with': 6, 'using': 5, '##': 4, 'analytics': 3, 'python': 3, 'working': 3, 'visualization': 2, 'scripts': 2, 'in': 2, 'to': 2, 'social': 2, 'media': 2, 'web': 2, 'html,': 2, 'css,': 2, 'the': 2, 'software': 2, 'big': 2, 'machine': 2, 'javascript,': 2, '#': 1, 'dartanion': 1, 'd.': 1, 'dartling': 1, 'education': 1, 'boot': 1, 'camp': 1, 'graduate': 1, 'experience': 1, 'creating': 1, 'pivot': 1, 'tables': 1, 'vba': 1, 'excel.': 1, 'modeling': 1, 'forecasting': 1, 'basic': 1, 'statistics': 1, 'writing': 1, 'analyze': 1, 'sets': 1, 'from': 1, 'files': 1, 'apis.': 1, 'mining': 1, 'mysql': 1, 'mongodb': 1, 'databases': 1, 'developing': 1, 'front-end': 1, 'visualizations': 1, 'bootstrap,': 1, 'd3,': 1, 'leaflet.js': 1, 'tableau': 1, 'business': 1, 'intelligence': 1, 'performing': 1, 'hadoop': 1, 'learning': 1, 'algorithms': 1, 'skills': 1, 'microsoft': 1, 'excel,': 1, 'python,': 1, 'html/css,': 1, 'api': 1, 'interactions,': 1, 'mining,': 1, 'sql,': 1, 'hadoop,': 1, 'tableau,': 1, 'advanced': 1, 'statistics,': 1, 'learning,': 1, 'r,': 1, 'git/github': 1, 'interests': 1, 'contributing': 1, 'open-source': 1, 'pandas': 1, 'designing': 1, 'apps': 1, 'd3': 1, 'cloud': 1, 'aws': 1})\n"
     ]
    }
   ],
   "source": [
    "# Using collections.Counter\n",
    "word_counter = Counter(word_list)\n",
    "print(word_counter)"
   ]
  },
  {
   "cell_type": "code",
   "execution_count": 20,
   "metadata": {},
   "outputs": [
    {
     "name": "stdout",
     "output_type": "stream",
     "text": [
      "True\n"
     ]
    }
   ],
   "source": [
    "print(word_count == word_counter)"
   ]
  },
  {
   "cell_type": "code",
   "execution_count": 22,
   "metadata": {},
   "outputs": [
    {
     "name": "stdout",
     "output_type": "stream",
     "text": [
      "Top 10 Words\n",
      "The top 10 words are ....\n"
     ]
    }
   ],
   "source": [
    "print(\"Top 10 Words\")\n",
    "print(\"The top 10 words are ....\")"
   ]
  },
  {
   "cell_type": "code",
   "execution_count": 23,
   "metadata": {},
   "outputs": [
    {
     "name": "stdout",
     "output_type": "stream",
     "text": [
      "Variable          Type        Data/Info\n",
      "---------------------------------------\n",
      "Counter           type        <class 'collections.Counter'>\n",
      "DESIRED_SKILLS    set         {'r', 'html', 'css', 'git', 'leaflet'}\n",
      "REQUIRED_SKILLS   set         {'excel', 'statistics', 'mysql', 'python'}\n",
      "load_file         function    <function load_file at 0x1208fb730>\n",
      "os                module      <module 'os' from '//anac<...>da3/lib/python3.7/os.py'>\n",
      "pd                module      <module 'pandas' from '//<...>ages/pandas/__init__.py'>\n",
      "punctuation       set         {'+', '!', ')', '#', ']',<...>'>', '`', ':', '\\\\', '@'}\n",
      "resume            set         {'performing', 'the', 'to<...>eb', 'data', 'bootstrap'}\n",
      "resume_path       str         Resources/resume.md\n",
      "string            module      <module 'string' from '//<...>lib/python3.7/string.py'>\n",
      "token             str         aws\n",
      "word              str         aws\n",
      "word_count        dict        n=89\n",
      "word_counter      Counter     Counter({'*': 15, 'and': <...>1, 'cloud': 1, 'aws': 1})\n",
      "word_list         list        n=148\n"
     ]
    }
   ],
   "source": [
    "%whos"
   ]
  },
  {
   "cell_type": "code",
   "execution_count": 38,
   "metadata": {},
   "outputs": [
    {
     "name": "stdout",
     "output_type": "stream",
     "text": [
      "['performing', 'the', 'to', 'working', 'd', 'modeling', 'visualization', 'htmlcss', 'algorithms', 'with', 'gitgithub', 'sets', 'business', 'in', 'tableau', 'forecasting', 'learning', 'creating', 'mongodb', 'python', 'hadoop', 'graduate', 'contributing', 'experience', 'designing', 'from', 'mysql', 'd3', 'intelligence', 'advanced', 'analyze', 'boot', 'opensource', 'camp', 'analytics', 'mining', 'interests', 'writing', 'visualizations', 'excel', 'apis', 'aws', 'basic', 'developing', 'dartling', 'scripts', 'javascript', 'skills', 'machine', 'files', 'social', 'api', 'sql', '', 'interactions', 'big', 'and', 'pivot', 'dartanion', 'cloud', 'using', 'html', 'software', 'apps', 'leaflet', 'pandas', 'education', 'css', 'r', 'media', 'microsoft', 'vba', 'frontend', 'databases', 'statistics', 'tables', 'web', 'data', 'bootstrap']\n"
     ]
    }
   ],
   "source": [
    "# Don't worry about the underscore in front of _word_count\n",
    "# It is just convention for internal use only\n",
    "# More info here: https://dbader.org/blog/meaning-of-underscores-in-python\n",
    "\n",
    "# Clean Punctuation\n",
    "\n",
    "trans_dict = {ord(i):None for i in string.punctuation}\n",
    "new_resume = [s.translate(trans_dict) for s in resume]\n",
    "print (new_resume)\n",
    "# Hint: return only words that are not in string.punctuaton\n",
    "# Hint: consider using a list comprehension\n"
   ]
  },
  {
   "cell_type": "code",
   "execution_count": 36,
   "metadata": {},
   "outputs": [
    {
     "name": "stdout",
     "output_type": "stream",
     "text": [
      "Variable           Type        Data/Info\n",
      "----------------------------------------\n",
      "Counter            type        <class 'collections.Counter'>\n",
      "DESIRED_SKILLS     set         {'r', 'html', 'css', 'git', 'leaflet'}\n",
      "REQUIRED_SKILLS    set         {'excel', 'statistics', 'mysql', 'python'}\n",
      "load_file          function    <function load_file at 0x1208fb730>\n",
      "os                 module      <module 'os' from '//anac<...>da3/lib/python3.7/os.py'>\n",
      "pd                 module      <module 'pandas' from '//<...>ages/pandas/__init__.py'>\n",
      "punctuation        set         {'+', '!', ')', '#', ']',<...>'>', '`', ':', '\\\\', '@'}\n",
      "resume             set         {'performing', 'the', 'to<...>eb', 'data', 'bootstrap'}\n",
      "resume_path        str         Resources/resume.md\n",
      "sorted_words       list        n=0\n",
      "stop_words         list        n=7\n",
      "string             module      <module 'string' from '//<...>lib/python3.7/string.py'>\n",
      "strings_modified   list        n=73\n",
      "token              str         aws\n",
      "trans_dict         dict        n=32\n",
      "word               str         visualization\n",
      "word_count         dict        n=89\n",
      "word_counter       Counter     Counter({'*': 15, 'and': <...>1, 'cloud': 1, 'aws': 1})\n",
      "word_list          list        n=148\n"
     ]
    }
   ],
   "source": [
    "%whos"
   ]
  },
  {
   "cell_type": "code",
   "execution_count": 39,
   "metadata": {},
   "outputs": [],
   "source": [
    "# Clean Stop Words\n",
    "stop_words = [\"and\", \"with\", \"using\", \"##\", \"working\", \"in\", \"to\"]\n",
    "for word in list(new_resume):  \n",
    "    if word in stop_words:\n",
    "        new_resume.remove(word)\n",
    "        "
   ]
  },
  {
   "cell_type": "code",
   "execution_count": 40,
   "metadata": {},
   "outputs": [
    {
     "name": "stdout",
     "output_type": "stream",
     "text": [
      "['performing', 'the', 'd', 'modeling', 'visualization', 'htmlcss', 'algorithms', 'gitgithub', 'sets', 'business', 'tableau', 'forecasting', 'learning', 'creating', 'mongodb', 'python', 'hadoop', 'graduate', 'contributing', 'experience', 'designing', 'from', 'mysql', 'd3', 'intelligence', 'advanced', 'analyze', 'boot', 'opensource', 'camp', 'analytics', 'mining', 'interests', 'writing', 'visualizations', 'excel', 'apis', 'aws', 'basic', 'developing', 'dartling', 'scripts', 'javascript', 'skills', 'machine', 'files', 'social', 'api', 'sql', '', 'interactions', 'big', 'pivot', 'dartanion', 'cloud', 'html', 'software', 'apps', 'leaflet', 'pandas', 'education', 'css', 'r', 'media', 'microsoft', 'vba', 'frontend', 'databases', 'statistics', 'tables', 'web', 'data', 'bootstrap']\n"
     ]
    }
   ],
   "source": [
    "print (new_resume)"
   ]
  },
  {
   "cell_type": "code",
   "execution_count": 34,
   "metadata": {},
   "outputs": [
    {
     "name": "stdout",
     "output_type": "stream",
     "text": [
      "Variable           Type        Data/Info\n",
      "----------------------------------------\n",
      "Counter            type        <class 'collections.Counter'>\n",
      "DESIRED_SKILLS     set         {'r', 'html', 'css', 'git', 'leaflet'}\n",
      "REQUIRED_SKILLS    set         {'excel', 'statistics', 'mysql', 'python'}\n",
      "load_file          function    <function load_file at 0x1208fb730>\n",
      "os                 module      <module 'os' from '//anac<...>da3/lib/python3.7/os.py'>\n",
      "pd                 module      <module 'pandas' from '//<...>ages/pandas/__init__.py'>\n",
      "punctuation        set         {'+', '!', ')', '#', ']',<...>'>', '`', ':', '\\\\', '@'}\n",
      "resume             set         {'performing', 'the', 'to<...>eb', 'data', 'bootstrap'}\n",
      "resume_path        str         Resources/resume.md\n",
      "sorted_words       list        n=0\n",
      "stop_words         list        n=7\n",
      "string             module      <module 'string' from '//<...>lib/python3.7/string.py'>\n",
      "strings_modified   list        n=73\n",
      "token              str         aws\n",
      "trans_dict         dict        n=32\n",
      "word               str         visualization\n",
      "word_count         dict        n=89\n",
      "word_counter       Counter     Counter({'*': 15, 'and': <...>1, 'cloud': 1, 'aws': 1})\n",
      "word_list          list        n=148\n"
     ]
    }
   ],
   "source": [
    "%whos\n"
   ]
  },
  {
   "cell_type": "code",
   "execution_count": 41,
   "metadata": {},
   "outputs": [
    {
     "name": "stdout",
     "output_type": "stream",
     "text": [
      "Token: *                    Count: 15\n",
      "Token: and                  Count: 8\n",
      "Token: data                 Count: 7\n",
      "Token: with                 Count: 6\n",
      "Token: using                Count: 5\n",
      "Token: ##                   Count: 4\n",
      "Token: analytics            Count: 3\n",
      "Token: python               Count: 3\n",
      "Token: working              Count: 3\n",
      "Token: visualization        Count: 2\n"
     ]
    }
   ],
   "source": [
    "# Sort words by count and print the top 10\n",
    "sorted_words = []\n",
    "for word in sorted(word_count, key=word_count.get, reverse=True)[:10]:\n",
    "    print(f\"Token: {word:20} Count: {word_count[word]}\")"
   ]
  },
  {
   "cell_type": "code",
   "execution_count": null,
   "metadata": {},
   "outputs": [],
   "source": []
  },
  {
   "cell_type": "code",
   "execution_count": null,
   "metadata": {},
   "outputs": [],
   "source": []
  }
 ],
 "metadata": {
  "kernelspec": {
   "display_name": "Python 3",
   "language": "python",
   "name": "python3"
  },
  "language_info": {
   "codemirror_mode": {
    "name": "ipython",
    "version": 3
   },
   "file_extension": ".py",
   "mimetype": "text/x-python",
   "name": "python",
   "nbconvert_exporter": "python",
   "pygments_lexer": "ipython3",
   "version": "3.7.3"
  }
 },
 "nbformat": 4,
 "nbformat_minor": 2
}
