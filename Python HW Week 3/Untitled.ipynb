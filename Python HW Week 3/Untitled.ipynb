{
 "cells": [
  {
   "cell_type": "code",
   "execution_count": 3,
   "metadata": {},
   "outputs": [],
   "source": [
    "import os\n",
    "import csv\n",
    "import numpy as np\n",
    "import pandas as pd\n",
    "\n",
    "\n",
    "udemy_csv = os.path.join(\"web_starter.csv\")\n",
    "\n",
    "# Lists to store data\n",
    "title = []\n",
    "price = []\n",
    "subscribers = []\n",
    "reviews = []\n",
    "percent_reviews = []\n",
    "length = []\n",
    "\n",
    "# with open(udemy_csv, newline=\"\", encoding='utf-8') as csvfile:\n",
    "with open(udemy_csv, newline=\"\") as csvfile:\n",
    "    csvreader = csv.reader(csvfile, delimiter=\",\")\n",
    "    for row in csvreader:\n",
    "        \n",
    "        # Add title\n",
    "        # YOUR CODE HERE\n",
    "        title.append(row[1])\n",
    "        \n",
    "        # Add price\n",
    "        # YOUR CODE HERE\n",
    "        price.append(row[4])\n",
    "       \n",
    "\n",
    "        # Add number of subscribers\n",
    "        # YOUR CODE HERE\n",
    "        subscribers.append(row[5])\n",
    "\n",
    "        # Add amount of reviews\n",
    "        # YOUR CODE HERE\n",
    "        reviews.append(row[6])\n",
    "\n",
    "        # Determine percent of review left to 2 decimal places\n",
    "        # YOUR CODE HERE\n",
    "        percent_reviews.append(100*(float(row[6])/float((row[5]))))\n",
    "        percent_reviews_final= list(np.around(np.array(percent_reviews),2))"
   ]
  },
  {
   "cell_type": "code",
   "execution_count": 4,
   "metadata": {},
   "outputs": [
    {
     "name": "stdout",
     "output_type": "stream",
     "text": [
      "Variable                Type             Data/Info\n",
      "--------------------------------------------------\n",
      "csv                     module           <module 'csv' from '//ana<...>a3/lib/python3.7/csv.py'>\n",
      "csvfile                 TextIOWrapper    <_io.TextIOWrapper name='<...>ode='r' encoding='UTF-8'>\n",
      "csvreader               reader           <_csv.reader object at 0x104ba6208>\n",
      "length                  list             n=0\n",
      "np                      module           <module 'numpy' from '//a<...>kages/numpy/__init__.py'>\n",
      "os                      module           <module 'os' from '//anac<...>da3/lib/python3.7/os.py'>\n",
      "pd                      module           <module 'pandas' from '//<...>ages/pandas/__init__.py'>\n",
      "percent_reviews         list             n=1200\n",
      "percent_reviews_final   list             n=1200\n",
      "price                   list             n=1200\n",
      "reviews                 list             n=1200\n",
      "row                     list             n=11\n",
      "subscribers             list             n=1200\n",
      "title                   list             n=1200\n",
      "udemy_csv               str              web_starter.csv\n"
     ]
    }
   ],
   "source": [
    "whos"
   ]
  },
  {
   "cell_type": "code",
   "execution_count": 8,
   "metadata": {},
   "outputs": [],
   "source": [
    "length.append(row[9])\n",
    "new_length = [i.split(' ', 1)[0] for i in length]"
   ]
  },
  {
   "cell_type": "code",
   "execution_count": 9,
   "metadata": {},
   "outputs": [
    {
     "name": "stdout",
     "output_type": "stream",
     "text": [
      "Variable                Type             Data/Info\n",
      "--------------------------------------------------\n",
      "csv                     module           <module 'csv' from '//ana<...>a3/lib/python3.7/csv.py'>\n",
      "csvfile                 TextIOWrapper    <_io.TextIOWrapper name='<...>ode='r' encoding='UTF-8'>\n",
      "csvreader               reader           <_csv.reader object at 0x104ba6208>\n",
      "length                  list             n=3\n",
      "new_length              list             n=3\n",
      "np                      module           <module 'numpy' from '//a<...>kages/numpy/__init__.py'>\n",
      "os                      module           <module 'os' from '//anac<...>da3/lib/python3.7/os.py'>\n",
      "pd                      module           <module 'pandas' from '//<...>ages/pandas/__init__.py'>\n",
      "percent_reviews         list             n=1200\n",
      "percent_reviews_final   list             n=1200\n",
      "price                   list             n=1200\n",
      "reviews                 list             n=1200\n",
      "row                     list             n=11\n",
      "subscribers             list             n=1200\n",
      "title                   list             n=1200\n",
      "udemy_csv               str              web_starter.csv\n"
     ]
    }
   ],
   "source": [
    "whos\n"
   ]
  },
  {
   "cell_type": "code",
   "execution_count": 10,
   "metadata": {},
   "outputs": [
    {
     "name": "stdout",
     "output_type": "stream",
     "text": [
      "['2 hours', '2 hours', '2 hours']\n"
     ]
    }
   ],
   "source": [
    "print (length)"
   ]
  },
  {
   "cell_type": "code",
   "execution_count": 11,
   "metadata": {},
   "outputs": [
    {
     "name": "stdout",
     "output_type": "stream",
     "text": [
      "['2', '2', '2']\n"
     ]
    }
   ],
   "source": [
    "print (new_length)"
   ]
  },
  {
   "cell_type": "code",
   "execution_count": null,
   "metadata": {},
   "outputs": [],
   "source": []
  }
 ],
 "metadata": {
  "kernelspec": {
   "display_name": "Python 3",
   "language": "python",
   "name": "python3"
  },
  "language_info": {
   "codemirror_mode": {
    "name": "ipython",
    "version": 3
   },
   "file_extension": ".py",
   "mimetype": "text/x-python",
   "name": "python",
   "nbconvert_exporter": "python",
   "pygments_lexer": "ipython3",
   "version": "3.7.3"
  }
 },
 "nbformat": 4,
 "nbformat_minor": 2
}
